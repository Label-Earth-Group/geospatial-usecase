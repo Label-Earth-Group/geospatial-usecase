{
 "cells": [
  {
   "cell_type": "code",
   "execution_count": null,
   "id": "89fe4ed1-5a6e-4cd6-8c24-698e9c6ecebf",
   "metadata": {},
   "outputs": [],
   "source": []
  },
  {
   "cell_type": "code",
   "execution_count": null,
   "id": "56a33911-f3a6-447a-ad62-227534f86f1a",
   "metadata": {
    "collapsed": false,
    "jupyter": {
     "outputs_hidden": false
    },
    "tags": [
     "Injected by EODAG plugin"
    ]
   },
   "outputs": [],
   "source": [
    "from eodag import EODataAccessGateway, setup_logging\n",
    "\n",
    "setup_logging(1)  # 0: nothing, 1: only progress bars, 2: INFO, 3: DEBUG\n",
    "\n",
    "dag = EODataAccessGateway()\n",
    "search_results, total_count = dag.search(\n",
    "    productType=\"LANDSAT_C2L2\",\n",
    "    start=\"2015-09-08\",\n",
    "    end=\"2023-09-07\",\n",
    "    cloudCover=11,\n",
    ")"
   ]
  },
  {
   "cell_type": "code",
   "execution_count": null,
   "id": "f054d261-003e-429c-929e-33599ea8da6b",
   "metadata": {
    "collapsed": false,
    "jupyter": {
     "outputs_hidden": false
    },
    "tags": [
     "Injected by EODAG plugin"
    ]
   },
   "outputs": [],
   "source": [
    "from eodag import EODataAccessGateway, setup_logging\n",
    "\n",
    "setup_logging(1)  # 0: nothing, 1: only progress bars, 2: INFO, 3: DEBUG\n",
    "\n",
    "dag = EODataAccessGateway()\n",
    "search_results, total_count = dag.search(\n",
    "    productType=\"CAMS_GACF_RH\",\n",
    "    cloudCover=17,\n",
    ")"
   ]
  },
  {
   "cell_type": "code",
   "execution_count": null,
   "id": "0099e486-d49e-41a7-8d3f-7891c87d7865",
   "metadata": {
    "collapsed": false,
    "jupyter": {
     "outputs_hidden": false
    },
    "tags": [
     "Injected by EODAG plugin"
    ]
   },
   "outputs": [],
   "source": [
    "from eodag import EODataAccessGateway, setup_logging\n",
    "\n",
    "setup_logging(1)  # 0: nothing, 1: only progress bars, 2: INFO, 3: DEBUG\n",
    "\n",
    "dag = EODataAccessGateway()\n",
    "search_results, total_count = dag.search(\n",
    "    productType=\"CAMS_GACF_RH\",\n",
    "    start=\"2016-09-07\",\n",
    "    end=\"2023-09-06\",\n",
    "    cloudCover=17,\n",
    ")"
   ]
  },
  {
   "cell_type": "code",
   "execution_count": null,
   "id": "d4d8b28f-9c60-404e-b9bb-95b05eba6d9c",
   "metadata": {
    "collapsed": false,
    "jupyter": {
     "outputs_hidden": false
    },
    "tags": [
     "Injected by EODAG plugin"
    ]
   },
   "outputs": [],
   "source": [
    "from eodag import EODataAccessGateway, setup_logging\n",
    "\n",
    "setup_logging(1)  # 0: nothing, 1: only progress bars, 2: INFO, 3: DEBUG\n",
    "\n",
    "dag = EODataAccessGateway()\n",
    "search_results, total_count = dag.search(\n",
    "    productType=\"LANDSAT_C2L2\",\n",
    "    start=\"2016-09-07\",\n",
    "    end=\"2023-09-06\",\n",
    "    cloudCover=17,\n",
    ")"
   ]
  },
  {
   "cell_type": "code",
   "execution_count": null,
   "id": "775d542a-21e1-4c52-b377-82595dd080f3",
   "metadata": {
    "collapsed": false,
    "jupyter": {
     "outputs_hidden": false
    },
    "tags": [
     "Injected by EODAG plugin"
    ]
   },
   "outputs": [],
   "source": [
    "from eodag import EODataAccessGateway, setup_logging\n",
    "\n",
    "setup_logging(1)  # 0: nothing, 1: only progress bars, 2: INFO, 3: DEBUG\n",
    "\n",
    "dag = EODataAccessGateway()\n",
    "search_results, total_count = dag.search(\n",
    "    productType=\"LANDSAT_C2L2_SR\",\n",
    "    start=\"2016-09-07\",\n",
    "    end=\"2023-09-06\",\n",
    "    cloudCover=17,\n",
    ")"
   ]
  }
 ],
 "metadata": {
  "kernelspec": {
   "display_name": "Python 3 (ipykernel)",
   "language": "python",
   "name": "python3"
  },
  "language_info": {
   "codemirror_mode": {
    "name": "ipython",
    "version": 3
   },
   "file_extension": ".py",
   "mimetype": "text/x-python",
   "name": "python",
   "nbconvert_exporter": "python",
   "pygments_lexer": "ipython3",
   "version": "3.8.0"
  }
 },
 "nbformat": 4,
 "nbformat_minor": 5
}

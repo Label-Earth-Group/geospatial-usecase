{
 "cells": [
  {
   "cell_type": "markdown",
   "metadata": {},
   "source": [
    "# Cloudbutton geospatial use case: Model calculation"
   ]
  },
  {
   "cell_type": "code",
   "execution_count": 2,
   "metadata": {
    "tags": []
   },
   "outputs": [
    {
     "name": "stdout",
     "output_type": "stream",
     "text": [
      "&&&&&&&&&&&&&&&&&&& self.parameters.values() odict_values([<Parameter \"self\">, <Parameter \"conn=None\">])\n",
      "&&&&&&&&&&&&&&&&&&& args (<IPython.core.history.HistoryManager object at 0x7f2797cfa280>, <sqlite3.Connection object at 0x7f2797ed28a0>)\n"
     ]
    }
   ],
   "source": [
    "import os\n",
    "import pathlib\n",
    "import json\n",
    "import subprocess\n",
    "import shutil\n",
    "\n",
    "import lithops\n",
    "from lithops.storage import Storage\n",
    "\n",
    "import numpy as np\n",
    "#import pdal\n",
    "from osgeo import gdal\n",
    "from scipy import ndimage"
   ]
  },
  {
   "cell_type": "code",
   "execution_count": 8,
   "metadata": {
    "tags": []
   },
   "outputs": [
    {
     "name": "stdout",
     "output_type": "stream",
     "text": [
      "&&&&&&&&&&&&&&&&&&& self.parameters.values() odict_values([<Parameter \"self\">, <Parameter \"conn=None\">])\n",
      "&&&&&&&&&&&&&&&&&&& args (<IPython.core.history.HistoryManager object at 0x7f2797cfa280>, <sqlite3.Connection object at 0x7f2797ed28a0>)\n"
     ]
    }
   ],
   "source": [
    "DATA_BUCKET = 'cb-geospatial-wildfire1'\n",
    "COMPUTE_BACKEND = 'aws_lambda'\n",
    "STORAGE_BACKEND = 'aws_s3'\n",
    "STORAGE_PREFIX = 's3://'\n",
    "INPUT_DATA_PREFIX = 'input-las-tiles/'"
   ]
  },
  {
   "cell_type": "markdown",
   "metadata": {},
   "source": [
    "Experiment parameters\n"
   ]
  },
  {
   "cell_type": "code",
   "execution_count": 9,
   "metadata": {
    "tags": []
   },
   "outputs": [
    {
     "name": "stdout",
     "output_type": "stream",
     "text": [
      "&&&&&&&&&&&&&&&&&&& self.parameters.values() odict_values([<Parameter \"self\">, <Parameter \"conn=None\">])\n",
      "&&&&&&&&&&&&&&&&&&& args (<IPython.core.history.HistoryManager object at 0x7f2797cfa280>, <sqlite3.Connection object at 0x7f2797ed28a0>)\n"
     ]
    }
   ],
   "source": [
    "FCC_WINDOW = 3\n",
    "FCC_BREAKPOINT = 0.01"
   ]
  },
  {
   "cell_type": "markdown",
   "metadata": {},
   "source": [
    "---\n",
    "Upload dataset\n",
    "---\n"
   ]
  },
  {
   "cell_type": "code",
   "execution_count": 5,
   "metadata": {
    "tags": []
   },
   "outputs": [
    {
     "name": "stdout",
     "output_type": "stream",
     "text": [
      "&&&&&&&&&&&&&&&&&&& self.parameters.values() odict_values([<Parameter \"self\">, <Parameter \"conn=None\">])\n",
      "&&&&&&&&&&&&&&&&&&& args (<IPython.core.history.HistoryManager object at 0x7f2797cfa280>, <sqlite3.Connection object at 0x7f2797ed28a0>)\n"
     ]
    }
   ],
   "source": [
    "LOCAL_INPUT_DIR = 'input-las-tiles'"
   ]
  },
  {
   "cell_type": "code",
   "execution_count": 10,
   "metadata": {
    "tags": []
   },
   "outputs": [
    {
     "name": "stdout",
     "output_type": "stream",
     "text": [
      "&&&&&&&&&&&&&&&&&&& self.parameters.values() odict_values([<Parameter \"self\">, <Parameter \"conn=None\">])\n",
      "&&&&&&&&&&&&&&&&&&& args (<IPython.core.history.HistoryManager object at 0x7f2797cfa280>, <sqlite3.Connection object at 0x7f2797ed28a0>)\n"
     ]
    }
   ],
   "source": [
    "storage = Storage(backend=STORAGE_BACKEND)"
   ]
  },
  {
   "cell_type": "code",
   "execution_count": 11,
   "metadata": {
    "tags": []
   },
   "outputs": [
    {
     "name": "stdout",
     "output_type": "stream",
     "text": [
      "&&&&&&&&&&&&&&&&&&& self.parameters.values() odict_values([<Parameter \"self\">, <Parameter \"conn=None\">])\n",
      "&&&&&&&&&&&&&&&&&&& args (<IPython.core.history.HistoryManager object at 0x7f2797cfa280>, <sqlite3.Connection object at 0x7f2797ed28a0>)\n",
      "Uploading input-las-tiles/lasfile.las...\n",
      "Ok!\n"
     ]
    }
   ],
   "source": [
    "bucket_objects = storage.list_keys(bucket=DATA_BUCKET)\n",
    "\n",
    "for file_name in os.listdir(LOCAL_INPUT_DIR):\n",
    "    if file_name not in bucket_objects:\n",
    "        key = os.path.join(INPUT_DATA_PREFIX, file_name)\n",
    "        with open(os.path.join(LOCAL_INPUT_DIR, file_name), 'rb') as file:\n",
    "            print(f'Uploading {key}...')\n",
    "            data = file.read()\n",
    "            storage.put_object(bucket=DATA_BUCKET, key=key, body=data)\n",
    "            print('Ok!')"
   ]
  },
  {
   "cell_type": "markdown",
   "metadata": {},
   "source": [
    "---\n",
    "Calculte DEM, DSM and CHM\n",
    "---\n"
   ]
  },
  {
   "cell_type": "code",
   "execution_count": 12,
   "metadata": {
    "tags": []
   },
   "outputs": [
    {
     "name": "stdout",
     "output_type": "stream",
     "text": [
      "&&&&&&&&&&&&&&&&&&& self.parameters.values() odict_values([<Parameter \"self\">, <Parameter \"conn=None\">])\n",
      "&&&&&&&&&&&&&&&&&&& args (<IPython.core.history.HistoryManager object at 0x7f2797cfa280>, <sqlite3.Connection object at 0x7f2797ed28a0>)\n",
      "&&&&&&&&&&&&&&&&&&& self.parameters.values() odict_values([<Parameter \"self\">, <Parameter \"obj\">])\n",
      "&&&&&&&&&&&&&&&&&&& args (<IPython.core.formatters.IPythonDisplayFormatter object at 0x7f27479d9e20>, ['input-las-tiles/lasfile.las'])\n",
      "&&&&&&&&&&&&&&&&&&& self.parameters.values() odict_values([<Parameter \"self\">, <Parameter \"obj\">, <Parameter \"include=None\">, <Parameter \"exclude=None\">])\n",
      "&&&&&&&&&&&&&&&&&&& args (<IPython.core.formatters.MimeBundleFormatter object at 0x7f27479d9cd0>, ['input-las-tiles/lasfile.las'])\n",
      "&&&&&&&&&&&&&&&&&&&&&& param include=None\n",
      "&&&&&&&&&&&&&&&&&&&&&& param.kind POSITIONAL_OR_KEYWORD\n",
      "&&&&&&&&&&&&&&&&&&& self.parameters.values() odict_values([<Parameter \"self\">, <Parameter \"obj\">])\n",
      "&&&&&&&&&&&&&&&&&&& args (<IPython.core.formatters.PlainTextFormatter object at 0x7f27479d9b80>, ['input-las-tiles/lasfile.las'])\n",
      "&&&&&&&&&&&&&&&&&&& self.parameters.values() odict_values([<Parameter \"self\">, <Parameter \"obj\">])\n",
      "&&&&&&&&&&&&&&&&&&& args (<IPython.core.formatters.HTMLFormatter object at 0x7f27479d9580>, ['input-las-tiles/lasfile.las'])\n",
      "&&&&&&&&&&&&&&&&&&& self.parameters.values() odict_values([<Parameter \"self\">, <Parameter \"obj\">])\n",
      "&&&&&&&&&&&&&&&&&&& args (<IPython.core.formatters.MarkdownFormatter object at 0x7f27479d9d00>, ['input-las-tiles/lasfile.las'])\n",
      "&&&&&&&&&&&&&&&&&&& self.parameters.values() odict_values([<Parameter \"self\">, <Parameter \"obj\">])\n",
      "&&&&&&&&&&&&&&&&&&& args (<IPython.core.formatters.SVGFormatter object at 0x7f27479d9550>, ['input-las-tiles/lasfile.las'])\n",
      "&&&&&&&&&&&&&&&&&&& self.parameters.values() odict_values([<Parameter \"self\">, <Parameter \"obj\">])\n",
      "&&&&&&&&&&&&&&&&&&& args (<IPython.core.formatters.PNGFormatter object at 0x7f27479d9850>, ['input-las-tiles/lasfile.las'])\n",
      "&&&&&&&&&&&&&&&&&&& self.parameters.values() odict_values([<Parameter \"self\">, <Parameter \"obj\">])\n",
      "&&&&&&&&&&&&&&&&&&& args (<IPython.core.formatters.PDFFormatter object at 0x7f27479d99a0>, ['input-las-tiles/lasfile.las'])\n",
      "&&&&&&&&&&&&&&&&&&& self.parameters.values() odict_values([<Parameter \"self\">, <Parameter \"obj\">])\n",
      "&&&&&&&&&&&&&&&&&&& args (<IPython.core.formatters.JPEGFormatter object at 0x7f27479d96a0>, ['input-las-tiles/lasfile.las'])\n",
      "&&&&&&&&&&&&&&&&&&& self.parameters.values() odict_values([<Parameter \"self\">, <Parameter \"obj\">])\n",
      "&&&&&&&&&&&&&&&&&&& args (<IPython.core.formatters.LatexFormatter object at 0x7f27479d9ac0>, ['input-las-tiles/lasfile.las'])\n",
      "&&&&&&&&&&&&&&&&&&& self.parameters.values() odict_values([<Parameter \"self\">, <Parameter \"obj\">])\n",
      "&&&&&&&&&&&&&&&&&&& args (<IPython.core.formatters.JSONFormatter object at 0x7f27479d9c70>, ['input-las-tiles/lasfile.las'])\n",
      "&&&&&&&&&&&&&&&&&&& self.parameters.values() odict_values([<Parameter \"self\">, <Parameter \"obj\">])\n",
      "&&&&&&&&&&&&&&&&&&& args (<IPython.core.formatters.JavascriptFormatter object at 0x7f27479d9520>, ['input-las-tiles/lasfile.las'])\n"
     ]
    },
    {
     "data": {
      "text/plain": [
       "['input-las-tiles/lasfile.las']"
      ]
     },
     "execution_count": 12,
     "metadata": {},
     "output_type": "execute_result"
    }
   ],
   "source": [
    "storage.list_keys(bucket=DATA_BUCKET)"
   ]
  },
  {
   "cell_type": "code",
   "execution_count": 21,
   "metadata": {
    "tags": []
   },
   "outputs": [
    {
     "name": "stdout",
     "output_type": "stream",
     "text": [
      "&&&&&&&&&&&&&&&&&&& self.parameters.values() odict_values([<Parameter \"self\">, <Parameter \"conn=None\">])\n",
      "&&&&&&&&&&&&&&&&&&& args (<IPython.core.history.HistoryManager object at 0x7f2797cfa280>, <sqlite3.Connection object at 0x7f2797ed28a0>)\n"
     ]
    }
   ],
   "source": [
    "def calculate_models(obj, storage):\n",
    "    # Create temporary file paths\n",
    "    import pdal\n",
    "    tmp_path_prefix = '/tmp/geo/'\n",
    "    if os.path.exists(tmp_path_prefix):\n",
    "        shutil.rmtree(tmp_path_prefix)\n",
    "    for subpath in ['dsm', 'dem', 'chm', 'aspect', 'slope', 'fcc']:\n",
    "        os.makedirs(os.path.join(tmp_path_prefix, subpath), exist_ok=True)\n",
    "\n",
    "    las_tile_filename = pathlib.Path(obj.key).name\n",
    "    tile_key = pathlib.Path(obj.key).stem\n",
    "\n",
    "    # Save obj to file\n",
    "    data = obj.data_stream.read()\n",
    "    input_file_path = os.path.join(tmp_path_prefix, las_tile_filename)\n",
    "    with open(input_file_path, 'wb') as file:\n",
    "        file.write(data)\n",
    "\n",
    "    # DSM pipeline\n",
    "    dsm_file_path = os.path.join(tmp_path_prefix, 'dsm', tile_key + '.gtiff')\n",
    "    dsm_pipeline_json = {\n",
    "        \"pipeline\": [\n",
    "            {\n",
    "                \"type\": \"readers.las\",\n",
    "                \"filename\": f\"{input_file_path}\",\n",
    "                \"spatialreference\": \"EPSG:25830\"\n",
    "            },\n",
    "            {\n",
    "                \"type\": \"filters.reprojection\",\n",
    "                \"in_srs\": \"EPSG:25830\",\n",
    "                \"out_srs\": \"EPSG:25830\"\n",
    "            },\n",
    "            {\n",
    "                \"type\": \"filters.outlier\",\n",
    "                \"method\": \"radius\",\n",
    "                \"radius\": 1.0,\n",
    "                \"min_k\": 4\n",
    "            },\n",
    "            {\n",
    "                \"type\": \"filters.range\",\n",
    "                # Classification equals 2 (corresponding to noise points in LAS).\n",
    "                \"limits\": \"Classification![7:7]\"\n",
    "            },\n",
    "            {\n",
    "                \"type\": \"filters.range\",\n",
    "                \"limits\": \"returnnumber[1:1]\"\n",
    "            },\n",
    "            {\n",
    "                \"type\": \"writers.gdal\",\n",
    "                \"gdaldriver\": \"GTiff\",\n",
    "                \"nodata\": \"-9999\",\n",
    "                \"output_type\": \"max\",\n",
    "                \"resolution\": 1,\n",
    "                \"filename\": f\"{dsm_file_path}\"\n",
    "            }\n",
    "        ]\n",
    "    }\n",
    "    dsm_pipeline_json_str = json.dumps(dsm_pipeline_json, indent=4)\n",
    "    pipeline = pdal.Pipeline(dsm_pipeline_json_str)\n",
    "    #pipeline.validate()\n",
    "    #pipeline.loglevel = 8\n",
    "    print('Executing DSM pipeline...')\n",
    "    result = pipeline.execute()\n",
    "    print(result)\n",
    "\n",
    "    # DEM pipeline\n",
    "    dem_file_path = os.path.join(tmp_path_prefix, 'dem', tile_key + '.gtiff')\n",
    "    dem_pipeline_json = {\n",
    "        \"pipeline\": [\n",
    "            {\n",
    "                \"type\": \"readers.las\",\n",
    "                \"filename\": f\"{input_file_path}\",\n",
    "                \"spatialreference\": \"EPSG:25830\"\n",
    "            },\n",
    "            {\n",
    "                \"type\": \"filters.reprojection\",\n",
    "                \"in_srs\": \"EPSG:25830\",\n",
    "                \"out_srs\": \"EPSG:25830\"\n",
    "            },\n",
    "            {\n",
    "                \"type\": \"filters.assign\",\n",
    "                \"assignment\": \"Classification[:]=0\"\n",
    "            },\n",
    "            {\n",
    "                \"type\": \"filters.elm\"\n",
    "            },\n",
    "            {\n",
    "                \"type\": \"filters.outlier\",\n",
    "                \"method\": \"radius\",\n",
    "                \"radius\": 1.0,\n",
    "                \"min_k\": 4\n",
    "            },\n",
    "            {\n",
    "\n",
    "                \"type\": \"filters.smrf\",\n",
    "                \"ignore\": \"Classification[7:7]\",\n",
    "                \"slope\": 0.2,\n",
    "                \"window\": 16,\n",
    "                \"threshold\": 0.45,\n",
    "                \"scalar\": 1.2\n",
    "            },\n",
    "            {\n",
    "                \"type\": \"filters.range\",\n",
    "                # Classification equals 2 (corresponding to ground in LAS).\n",
    "                \"limits\": \"Classification[2:2]\",\n",
    "            },\n",
    "            {\n",
    "                \"type\": \"writers.gdal\",\n",
    "                \"gdaldriver\": \"GTiff\",\n",
    "                \"nodata\": \"-9999\",\n",
    "                \"output_type\": \"max\",\n",
    "                \"resolution\": 1,\n",
    "                \"filename\": f\"{dem_file_path}\"\n",
    "            }\n",
    "        ]\n",
    "    }\n",
    "    dem_pipeline_json_str = json.dumps(dem_pipeline_json, indent=4)\n",
    "    pipeline = pdal.Pipeline(dem_pipeline_json_str)\n",
    "    #pipeline.validate()  # Check if json options are good\n",
    "    #pipeline.loglevel = 8\n",
    "    print('Executing DEM pipeline...')\n",
    "    result = pipeline.execute()\n",
    "    print(result)\n",
    "\n",
    "    # calculate CHM\n",
    "    chm_file_path = os.path.join(tmp_path_prefix, 'chm', tile_key + '.tiff')\n",
    "    cmd = ['gdal_calc.py', '-A', dem_file_path, '-B', dsm_file_path,\n",
    "           '--calc=\"B-A\"', '--NoDataValue=0', '--outfile', chm_file_path]\n",
    "    p = subprocess.Popen(cmd, stdout=subprocess.PIPE, stderr=subprocess.PIPE, close_fds=True)\n",
    "    stdout, stderr = p.communicate()\n",
    "    print(stdout, stderr)\n",
    "    # assert p.returncode == 0\n",
    "\n",
    "    # calculate aspect\n",
    "    aspect_file_path = os.path.join(tmp_path_prefix, 'aspect', tile_key + '.tiff')\n",
    "    cmd = ['gdaldem', 'aspect', dem_file_path, aspect_file_path, '-compute_edges']\n",
    "    p = subprocess.Popen(cmd, stdout=subprocess.PIPE, stderr=subprocess.PIPE, close_fds=True)\n",
    "    stdout, stderr = p.communicate()\n",
    "    print(stdout, stderr)\n",
    "    # assert p.returncode == 0\n",
    "\n",
    "    # calculate slope\n",
    "    slope_file_path = os.path.join(tmp_path_prefix, 'slope', tile_key + '.tiff')\n",
    "    cmd = ['gdaldem', 'slope', dem_file_path, slope_file_path, '-compute_edges']\n",
    "    p = subprocess.Popen(cmd, stdout=subprocess.PIPE, stderr=subprocess.PIPE, close_fds=True)\n",
    "    stdout, stderr = p.communicate()\n",
    "    print(stdout, stderr)\n",
    "    # assert p.returncode == 0\n",
    "\n",
    "    # calculate FCC\n",
    "    in_ds = gdal.Open(dem_file_path)\n",
    "    rows = in_ds.RasterYSize\n",
    "    cols = in_ds.RasterXSize\n",
    "    in_band = in_ds.GetRasterBand(1)\n",
    "    data = in_band.ReadAsArray(0, 0, cols, rows).astype(float)\n",
    "    data[data > FCC_BREAKPOINT] = 1\n",
    "    data[data <= FCC_BREAKPOINT] = 0\n",
    "\n",
    "    # Computing fraction on the whole raster through a moving window.\n",
    "    def _compute_fraction(array):\n",
    "        nveg = np.sum(array == 1)\n",
    "        total = len(array)\n",
    "        out = (nveg/total)*100\n",
    "        return(out)\n",
    "\n",
    "    TCC = ndimage.generic_filter(data, _compute_fraction, size=FCC_WINDOW)\n",
    "\n",
    "    gtiff_driver = gdal.GetDriverByName(\"GTiff\")\n",
    "    fcc_file_path = os.path.join(tmp_path_prefix, 'fcc', tile_key + '.tiff')\n",
    "    out_ds = gtiff_driver.Create(fcc_file_path, cols, rows, 1, in_band.DataType)\n",
    "    out_ds.SetProjection(in_ds.GetProjection())\n",
    "    out_ds.SetGeoTransform(in_ds.GetGeoTransform())\n",
    "\n",
    "    out_band = out_ds.GetRasterBand(1)\n",
    "    out_band.WriteArray(TCC)\n",
    "    # out_ds.BuildOverviews(\"Average\", [2, 4, 8, 16, 32])\n",
    "    out_ds.FlushCache()\n",
    "    del in_ds, out_ds\n",
    "\n",
    "    outputs = [dsm_file_path, dem_file_path, chm_file_path,\n",
    "               aspect_file_path, slope_file_path, fcc_file_path]\n",
    "    for output_path in outputs:\n",
    "        if os.path.exists(output_path):\n",
    "            with open(output_path, 'rb') as output_file:\n",
    "                data = output_file.read()\n",
    "                cos_key = output_path.replace(tmp_path_prefix, '')\n",
    "                storage.put_object(bucket=DATA_BUCKET, key=cos_key, body=data)\n",
    "        else:\n",
    "            print(f'Failed to upload {output_path}')\n",
    "\n",
    "    out = subprocess.check_output(['find', '/tmp/geo/'])\n",
    "    return out"
   ]
  },
  {
   "cell_type": "code",
   "execution_count": 14,
   "metadata": {
    "tags": []
   },
   "outputs": [
    {
     "name": "stdout",
     "output_type": "stream",
     "text": [
      "&&&&&&&&&&&&&&&&&&& self.parameters.values() odict_values([<Parameter \"self\">, <Parameter \"conn=None\">])\n",
      "&&&&&&&&&&&&&&&&&&& args (<IPython.core.history.HistoryManager object at 0x7f2797cfa280>, <sqlite3.Connection object at 0x7f2797ed28a0>)\n"
     ]
    },
    {
     "name": "stderr",
     "output_type": "stream",
     "text": [
      "2023-10-06 22:13:45,249 [INFO] config.py:141 -- Lithops v2.9.1.dev0 - Python3.8\n",
      "2023-10-06 22:13:47,017 [INFO] aws_s3.py:68 -- S3 client created - Region: us-west-2\n",
      "2023-10-06 22:13:59,621 [INFO] aws_lambda.py:94 -- AWS Lambda client created - Region: us-west-2\n"
     ]
    }
   ],
   "source": [
    "fexec = lithops.FunctionExecutor(backend=\"aws_lambda\", storage=\"aws_s3\", runtime=\"tmc:09\", runtime_memory=2048)"
   ]
  },
  {
   "cell_type": "code",
   "execution_count": 15,
   "metadata": {
    "tags": []
   },
   "outputs": [
    {
     "name": "stdout",
     "output_type": "stream",
     "text": [
      "&&&&&&&&&&&&&&&&&&& self.parameters.values() odict_values([<Parameter \"self\">, <Parameter \"obj\">])\n",
      "&&&&&&&&&&&&&&&&&&& args (<IPython.core.formatters.IPythonDisplayFormatter object at 0x7f27479d9e20>, 's3://cb-geospatial-wildfire1/input-las-tiles/')\n",
      "&&&&&&&&&&&&&&&&&&& self.parameters.values() odict_values([<Parameter \"self\">, <Parameter \"obj\">, <Parameter \"include=None\">, <Parameter \"exclude=None\">])\n",
      "&&&&&&&&&&&&&&&&&&& args (<IPython.core.formatters.MimeBundleFormatter object at 0x7f27479d9cd0>, 's3://cb-geospatial-wildfire1/input-las-tiles/')\n",
      "&&&&&&&&&&&&&&&&&&&&&& param include=None\n",
      "&&&&&&&&&&&&&&&&&&&&&& param.kind POSITIONAL_OR_KEYWORD\n",
      "&&&&&&&&&&&&&&&&&&& self.parameters.values() odict_values([<Parameter \"self\">, <Parameter \"obj\">])\n",
      "&&&&&&&&&&&&&&&&&&& args (<IPython.core.formatters.PlainTextFormatter object at 0x7f27479d9b80>, 's3://cb-geospatial-wildfire1/input-las-tiles/')\n",
      "&&&&&&&&&&&&&&&&&&& self.parameters.values() odict_values([<Parameter \"self\">, <Parameter \"obj\">])\n",
      "&&&&&&&&&&&&&&&&&&& args (<IPython.core.formatters.HTMLFormatter object at 0x7f27479d9580>, 's3://cb-geospatial-wildfire1/input-las-tiles/')\n",
      "&&&&&&&&&&&&&&&&&&& self.parameters.values() odict_values([<Parameter \"self\">, <Parameter \"obj\">])\n",
      "&&&&&&&&&&&&&&&&&&& args (<IPython.core.formatters.MarkdownFormatter object at 0x7f27479d9d00>, 's3://cb-geospatial-wildfire1/input-las-tiles/')\n",
      "&&&&&&&&&&&&&&&&&&& self.parameters.values() odict_values([<Parameter \"self\">, <Parameter \"obj\">])\n",
      "&&&&&&&&&&&&&&&&&&& args (<IPython.core.formatters.SVGFormatter object at 0x7f27479d9550>, 's3://cb-geospatial-wildfire1/input-las-tiles/')\n",
      "&&&&&&&&&&&&&&&&&&& self.parameters.values() odict_values([<Parameter \"self\">, <Parameter \"obj\">])\n",
      "&&&&&&&&&&&&&&&&&&& args (<IPython.core.formatters.PNGFormatter object at 0x7f27479d9850>, 's3://cb-geospatial-wildfire1/input-las-tiles/')\n",
      "&&&&&&&&&&&&&&&&&&& self.parameters.values() odict_values([<Parameter \"self\">, <Parameter \"obj\">])\n",
      "&&&&&&&&&&&&&&&&&&& args (<IPython.core.formatters.PDFFormatter object at 0x7f27479d99a0>, 's3://cb-geospatial-wildfire1/input-las-tiles/')\n",
      "&&&&&&&&&&&&&&&&&&& self.parameters.values() odict_values([<Parameter \"self\">, <Parameter \"obj\">])\n",
      "&&&&&&&&&&&&&&&&&&& args (<IPython.core.formatters.JPEGFormatter object at 0x7f27479d96a0>, 's3://cb-geospatial-wildfire1/input-las-tiles/')\n",
      "&&&&&&&&&&&&&&&&&&& self.parameters.values() odict_values([<Parameter \"self\">, <Parameter \"obj\">])\n",
      "&&&&&&&&&&&&&&&&&&& args (<IPython.core.formatters.LatexFormatter object at 0x7f27479d9ac0>, 's3://cb-geospatial-wildfire1/input-las-tiles/')\n",
      "&&&&&&&&&&&&&&&&&&& self.parameters.values() odict_values([<Parameter \"self\">, <Parameter \"obj\">])\n",
      "&&&&&&&&&&&&&&&&&&& args (<IPython.core.formatters.JSONFormatter object at 0x7f27479d9c70>, 's3://cb-geospatial-wildfire1/input-las-tiles/')\n",
      "&&&&&&&&&&&&&&&&&&& self.parameters.values() odict_values([<Parameter \"self\">, <Parameter \"obj\">])\n",
      "&&&&&&&&&&&&&&&&&&& args (<IPython.core.formatters.JavascriptFormatter object at 0x7f27479d9520>, 's3://cb-geospatial-wildfire1/input-las-tiles/')\n",
      "&&&&&&&&&&&&&&&&&&& self.parameters.values() odict_values([<Parameter \"self\">, <Parameter \"conn=None\">])\n",
      "&&&&&&&&&&&&&&&&&&& args (<IPython.core.history.HistoryManager object at 0x7f2797cfa280>, <sqlite3.Connection object at 0x7f2797ed28a0>)\n"
     ]
    },
    {
     "data": {
      "text/plain": [
       "'s3://cb-geospatial-wildfire1/input-las-tiles/'"
      ]
     },
     "execution_count": 15,
     "metadata": {},
     "output_type": "execute_result"
    }
   ],
   "source": [
    "os.path.join(STORAGE_PREFIX, DATA_BUCKET, INPUT_DATA_PREFIX)"
   ]
  },
  {
   "cell_type": "code",
   "execution_count": 22,
   "metadata": {
    "tags": []
   },
   "outputs": [
    {
     "name": "stderr",
     "output_type": "stream",
     "text": [
      "2023-10-06 22:23:04,735 [INFO] invokers.py:108 -- ExecutorID 082df0-0 | JobID M002 - Selected Runtime: tmc:09 - 2048MB\n"
     ]
    },
    {
     "name": "stdout",
     "output_type": "stream",
     "text": [
      "&&&&&&&&&&&&&&&&&&& self.parameters.values() odict_values([<Parameter \"self\">, <Parameter \"conn=None\">])\n",
      "&&&&&&&&&&&&&&&&&&& args (<IPython.core.history.HistoryManager object at 0x7f2797cfa280>, <sqlite3.Connection object at 0x7f2797ed28a0>)\n",
      "*******************iterdata s3://cb-geospatial-wildfire1/input-las-tiles/\n",
      "*******************extra_args None\n",
      "*******************data ['s3://cb-geospatial-wildfire1/input-las-tiles/']\n",
      "*******************func <function calculate_models at 0x7f27513098b0>\n",
      "*******************new_parameters [<Parameter \"obj\">]\n",
      "&&&&&&&&&&&&&&&&&&& self.parameters.values() odict_values([<Parameter \"obj\">])\n",
      "&&&&&&&&&&&&&&&&&&& args ('s3://cb-geospatial-wildfire1/input-las-tiles/',)\n"
     ]
    },
    {
     "name": "stderr",
     "output_type": "stream",
     "text": [
      "2023-10-06 22:23:06,895 [INFO] invokers.py:172 -- ExecutorID 082df0-0 | JobID M002 - Starting function invocation: calculate_models() - Total: 1 activations\n",
      "2023-10-06 22:23:06,911 [INFO] invokers.py:208 -- ExecutorID 082df0-0 | JobID M002 - View execution logs at /tmp/lithops-lithops/logs/082df0-0-M002.log\n"
     ]
    }
   ],
   "source": [
    "fs = fexec.map(calculate_models, os.path.join(STORAGE_PREFIX, DATA_BUCKET, INPUT_DATA_PREFIX))"
   ]
  },
  {
   "cell_type": "code",
   "execution_count": 23,
   "metadata": {
    "tags": []
   },
   "outputs": [
    {
     "name": "stderr",
     "output_type": "stream",
     "text": [
      "2023-10-06 22:23:21,891 [INFO] wait.py:98 -- ExecutorID 082df0-0 - Getting results from 1 function activations\n"
     ]
    },
    {
     "name": "stdout",
     "output_type": "stream",
     "text": [
      "&&&&&&&&&&&&&&&&&&& self.parameters.values() odict_values([<Parameter \"self\">, <Parameter \"conn=None\">])\n",
      "&&&&&&&&&&&&&&&&&&& args (<IPython.core.history.HistoryManager object at 0x7f2797cfa280>, <sqlite3.Connection object at 0x7f2797ed28a0>)\n",
      "&&&&&&&&&&&&&&&&&&& self.parameters.values() odict_values([<Parameter \"self\">, <Parameter \"obj\">])\n",
      "&&&&&&&&&&&&&&&&&&& args (<IPython.core.formatters.IPythonDisplayFormatter object at 0x7f27479d9e20>,     0%|          | 0/1  )\n",
      "&&&&&&&&&&&&&&&&&&& self.parameters.values() odict_values([<Parameter \"self\">, <Parameter \"obj\">, <Parameter \"include=None\">, <Parameter \"exclude=None\">])\n",
      "&&&&&&&&&&&&&&&&&&& args (<IPython.core.formatters.MimeBundleFormatter object at 0x7f27479d9cd0>,     0%|          | 0/1  )\n",
      "&&&&&&&&&&&&&&&&&&&&&& param include=None\n",
      "&&&&&&&&&&&&&&&&&&&&&& param.kind POSITIONAL_OR_KEYWORD\n",
      "&&&&&&&&&&&&&&&&&&& self.parameters.values() odict_values([<Parameter \"self\">, <Parameter \"obj\">])\n",
      "&&&&&&&&&&&&&&&&&&& args (<IPython.core.formatters.HTMLFormatter object at 0x7f27479d9580>,     0%|          | 0/1  )\n",
      "&&&&&&&&&&&&&&&&&&& self.parameters.values() odict_values([<Parameter \"self\">, <Parameter \"obj\">])\n",
      "&&&&&&&&&&&&&&&&&&& args (<IPython.core.formatters.MarkdownFormatter object at 0x7f27479d9d00>,     0%|          | 0/1  )\n",
      "&&&&&&&&&&&&&&&&&&& self.parameters.values() odict_values([<Parameter \"self\">, <Parameter \"obj\">])\n",
      "&&&&&&&&&&&&&&&&&&& args (<IPython.core.formatters.SVGFormatter object at 0x7f27479d9550>,     0%|          | 0/1  )\n",
      "&&&&&&&&&&&&&&&&&&& self.parameters.values() odict_values([<Parameter \"self\">, <Parameter \"obj\">])\n",
      "&&&&&&&&&&&&&&&&&&& args (<IPython.core.formatters.PNGFormatter object at 0x7f27479d9850>,     0%|          | 0/1  )\n",
      "&&&&&&&&&&&&&&&&&&& self.parameters.values() odict_values([<Parameter \"self\">, <Parameter \"obj\">])\n",
      "&&&&&&&&&&&&&&&&&&& args (<IPython.core.formatters.PDFFormatter object at 0x7f27479d99a0>,     0%|          | 0/1  )\n",
      "&&&&&&&&&&&&&&&&&&& self.parameters.values() odict_values([<Parameter \"self\">, <Parameter \"obj\">])\n",
      "&&&&&&&&&&&&&&&&&&& args (<IPython.core.formatters.JPEGFormatter object at 0x7f27479d96a0>,     0%|          | 0/1  )\n",
      "&&&&&&&&&&&&&&&&&&& self.parameters.values() odict_values([<Parameter \"self\">, <Parameter \"obj\">])\n",
      "&&&&&&&&&&&&&&&&&&& args (<IPython.core.formatters.LatexFormatter object at 0x7f27479d9ac0>,     0%|          | 0/1  )\n",
      "&&&&&&&&&&&&&&&&&&& self.parameters.values() odict_values([<Parameter \"self\">, <Parameter \"obj\">])\n",
      "&&&&&&&&&&&&&&&&&&& args (<IPython.core.formatters.JSONFormatter object at 0x7f27479d9c70>,     0%|          | 0/1  )\n",
      "&&&&&&&&&&&&&&&&&&& self.parameters.values() odict_values([<Parameter \"self\">, <Parameter \"obj\">])\n",
      "&&&&&&&&&&&&&&&&&&& args (<IPython.core.formatters.JavascriptFormatter object at 0x7f27479d9520>,     0%|          | 0/1  )\n"
     ]
    },
    {
     "data": {
      "application/vnd.jupyter.widget-view+json": {
       "model_id": "10bfcf06100a4f048fb3b23dba855d14",
       "version_major": 2,
       "version_minor": 0
      },
      "text/plain": [
       "    0%|          | 0/1  "
      ]
     },
     "metadata": {},
     "output_type": "display_data"
    },
    {
     "name": "stderr",
     "output_type": "stream",
     "text": [
      "2023-10-06 22:23:22,020 [INFO] executors.py:593 -- ExecutorID 082df0-0 - Cleaning temporary data\n"
     ]
    }
   ],
   "source": [
    "res = fexec.get_result(fs=fs)"
   ]
  },
  {
   "cell_type": "code",
   "execution_count": 24,
   "metadata": {
    "tags": []
   },
   "outputs": [
    {
     "name": "stdout",
     "output_type": "stream",
     "text": [
      "/tmp/geo/\n",
      "/tmp/geo/chm\n",
      "/tmp/geo/chm/lasfile.tiff\n",
      "/tmp/geo/fcc\n",
      "/tmp/geo/fcc/lasfile.tiff\n",
      "/tmp/geo/aspect\n",
      "/tmp/geo/aspect/lasfile.tiff\n",
      "/tmp/geo/dem\n",
      "/tmp/geo/dem/lasfile.gtiff\n",
      "/tmp/geo/slope\n",
      "/tmp/geo/slope/lasfile.tiff\n",
      "/tmp/geo/dsm\n",
      "/tmp/geo/dsm/lasfile.gtiff\n",
      "/tmp/geo/lasfile.las\n",
      "---\n",
      "&&&&&&&&&&&&&&&&&&& self.parameters.values() odict_values([<Parameter \"self\">, <Parameter \"conn=None\">])\n",
      "&&&&&&&&&&&&&&&&&&& args (<IPython.core.history.HistoryManager object at 0x7f2797cfa280>, <sqlite3.Connection object at 0x7f2797ed28a0>)\n"
     ]
    }
   ],
   "source": [
    "for r in res:\n",
    "    print(r.decode('utf-8').strip())\n",
    "    print('---')"
   ]
  },
  {
   "cell_type": "code",
   "execution_count": null,
   "metadata": {},
   "outputs": [],
   "source": []
  },
  {
   "cell_type": "code",
   "execution_count": null,
   "metadata": {},
   "outputs": [],
   "source": []
  }
 ],
 "metadata": {
  "interpreter": {
   "hash": "fc28e218f8aa598d7201f1426aba0b64c29ddf364b0850b5108205e3c665e009"
  },
  "kernelspec": {
   "display_name": "Python 3 (ipykernel)",
   "language": "python",
   "name": "python3"
  },
  "language_info": {
   "codemirror_mode": {
    "name": "ipython",
    "version": 3
   },
   "file_extension": ".py",
   "mimetype": "text/x-python",
   "name": "python",
   "nbconvert_exporter": "python",
   "pygments_lexer": "ipython3",
   "version": "3.8.0"
  }
 },
 "nbformat": 4,
 "nbformat_minor": 4
}
